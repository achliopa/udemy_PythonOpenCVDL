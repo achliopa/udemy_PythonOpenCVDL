{
 "cells": [
  {
   "cell_type": "code",
   "execution_count": 4,
   "metadata": {},
   "outputs": [],
   "source": [
    "import numpy as np\n",
    "from numpy import genfromtxt"
   ]
  },
  {
   "cell_type": "code",
   "execution_count": 5,
   "metadata": {},
   "outputs": [],
   "source": [
    "data = genfromtxt('../DATA/bank_note_data.txt',delimiter=',')"
   ]
  },
  {
   "cell_type": "code",
   "execution_count": 6,
   "metadata": {},
   "outputs": [
    {
     "data": {
      "text/plain": [
       "array([[  3.6216 ,   8.6661 ,  -2.8073 ,  -0.44699,   0.     ],\n",
       "       [  4.5459 ,   8.1674 ,  -2.4586 ,  -1.4621 ,   0.     ],\n",
       "       [  3.866  ,  -2.6383 ,   1.9242 ,   0.10645,   0.     ],\n",
       "       ...,\n",
       "       [ -3.7503 , -13.4586 ,  17.5932 ,  -2.7771 ,   1.     ],\n",
       "       [ -3.5637 ,  -8.3827 ,  12.393  ,  -1.2823 ,   1.     ],\n",
       "       [ -2.5419 ,  -0.65804,   2.6842 ,   1.1952 ,   1.     ]])"
      ]
     },
     "execution_count": 6,
     "metadata": {},
     "output_type": "execute_result"
    }
   ],
   "source": [
    "data"
   ]
  },
  {
   "cell_type": "code",
   "execution_count": 7,
   "metadata": {},
   "outputs": [
    {
     "data": {
      "text/plain": [
       "(1372, 5)"
      ]
     },
     "execution_count": 7,
     "metadata": {},
     "output_type": "execute_result"
    }
   ],
   "source": [
    "data.shape"
   ]
  },
  {
   "cell_type": "code",
   "execution_count": 8,
   "metadata": {},
   "outputs": [],
   "source": [
    "labels = data[:,4]"
   ]
  },
  {
   "cell_type": "code",
   "execution_count": 9,
   "metadata": {},
   "outputs": [],
   "source": [
    "features = data[:,:4]"
   ]
  },
  {
   "cell_type": "code",
   "execution_count": 10,
   "metadata": {},
   "outputs": [],
   "source": [
    "X = features\n",
    "y = labels"
   ]
  },
  {
   "cell_type": "code",
   "execution_count": 11,
   "metadata": {},
   "outputs": [],
   "source": [
    "from sklearn.model_selection import train_test_split"
   ]
  },
  {
   "cell_type": "code",
   "execution_count": 12,
   "metadata": {},
   "outputs": [],
   "source": [
    "X_train, X_test, y_train, y_test = train_test_split(X, y, test_size=0.33, random_state=42)"
   ]
  },
  {
   "cell_type": "code",
   "execution_count": 13,
   "metadata": {},
   "outputs": [],
   "source": [
    "from sklearn.preprocessing import MinMaxScaler"
   ]
  },
  {
   "cell_type": "code",
   "execution_count": 14,
   "metadata": {},
   "outputs": [],
   "source": [
    "scaler_object = MinMaxScaler()"
   ]
  },
  {
   "cell_type": "code",
   "execution_count": 15,
   "metadata": {},
   "outputs": [
    {
     "data": {
      "text/plain": [
       "MinMaxScaler(copy=True, feature_range=(0, 1))"
      ]
     },
     "execution_count": 15,
     "metadata": {},
     "output_type": "execute_result"
    }
   ],
   "source": [
    "scaler_object.fit(X_train)"
   ]
  },
  {
   "cell_type": "code",
   "execution_count": 16,
   "metadata": {},
   "outputs": [],
   "source": [
    "scaled_X_train = scaler_object.transform(X_train)"
   ]
  },
  {
   "cell_type": "code",
   "execution_count": 17,
   "metadata": {},
   "outputs": [],
   "source": [
    "scaled_X_test = scaler_object.transform(X_test)"
   ]
  },
  {
   "cell_type": "code",
   "execution_count": 20,
   "metadata": {},
   "outputs": [],
   "source": [
    "from keras.models import Sequential\n",
    "from keras.layers import Dense"
   ]
  },
  {
   "cell_type": "code",
   "execution_count": 21,
   "metadata": {},
   "outputs": [],
   "source": [
    "model = Sequential()\n",
    "model.add(Dense(4,input_dim=4,activation='relu'))\n",
    "model.add(Dense(8,activation='relu'))\n",
    "model.add(Dense(1,activation='sigmoid'))"
   ]
  },
  {
   "cell_type": "code",
   "execution_count": 23,
   "metadata": {},
   "outputs": [],
   "source": [
    "model.compile(loss='binary_crossentropy',optimizer='adam',metrics=['accuracy'])"
   ]
  },
  {
   "cell_type": "code",
   "execution_count": 24,
   "metadata": {},
   "outputs": [
    {
     "name": "stdout",
     "output_type": "stream",
     "text": [
      "Epoch 1/50\n",
      " - 0s - loss: 0.6292 - acc: 0.5626\n",
      "Epoch 2/50\n",
      " - 0s - loss: 0.6125 - acc: 0.5985\n",
      "Epoch 3/50\n",
      " - 0s - loss: 0.5996 - acc: 0.6181\n",
      "Epoch 4/50\n",
      " - 0s - loss: 0.5879 - acc: 0.6518\n",
      "Epoch 5/50\n",
      " - 0s - loss: 0.5759 - acc: 0.6670\n",
      "Epoch 6/50\n",
      " - 0s - loss: 0.5632 - acc: 0.7160\n",
      "Epoch 7/50\n",
      " - 0s - loss: 0.5496 - acc: 0.7301\n",
      "Epoch 8/50\n",
      " - 0s - loss: 0.5361 - acc: 0.7584\n",
      "Epoch 9/50\n",
      " - 0s - loss: 0.5226 - acc: 0.7867\n",
      "Epoch 10/50\n",
      " - 0s - loss: 0.5076 - acc: 0.8085\n",
      "Epoch 11/50\n",
      " - 0s - loss: 0.4929 - acc: 0.8139\n",
      "Epoch 12/50\n",
      " - 0s - loss: 0.4776 - acc: 0.8335\n",
      "Epoch 13/50\n",
      " - 0s - loss: 0.4625 - acc: 0.8357\n",
      "Epoch 14/50\n",
      " - 0s - loss: 0.4462 - acc: 0.8487\n",
      "Epoch 15/50\n",
      " - 0s - loss: 0.4304 - acc: 0.8585\n",
      "Epoch 16/50\n",
      " - 0s - loss: 0.4146 - acc: 0.8640\n",
      "Epoch 17/50\n",
      " - 0s - loss: 0.3997 - acc: 0.8749\n",
      "Epoch 18/50\n",
      " - 0s - loss: 0.3852 - acc: 0.8868\n",
      "Epoch 19/50\n",
      " - 0s - loss: 0.3706 - acc: 0.8879\n",
      "Epoch 20/50\n",
      " - 0s - loss: 0.3559 - acc: 0.8966\n",
      "Epoch 21/50\n",
      " - 0s - loss: 0.3427 - acc: 0.8999\n",
      "Epoch 22/50\n",
      " - 0s - loss: 0.3300 - acc: 0.9042\n",
      "Epoch 23/50\n",
      " - 0s - loss: 0.3167 - acc: 0.9140\n",
      "Epoch 24/50\n",
      " - 0s - loss: 0.3047 - acc: 0.9173\n",
      "Epoch 25/50\n",
      " - 0s - loss: 0.2938 - acc: 0.9227\n",
      "Epoch 26/50\n",
      " - 0s - loss: 0.2819 - acc: 0.9238\n",
      "Epoch 27/50\n",
      " - 0s - loss: 0.2712 - acc: 0.9336\n",
      "Epoch 28/50\n",
      " - 0s - loss: 0.2609 - acc: 0.9336\n",
      "Epoch 29/50\n",
      " - 0s - loss: 0.2515 - acc: 0.9402\n",
      "Epoch 30/50\n",
      " - 0s - loss: 0.2425 - acc: 0.9380\n",
      "Epoch 31/50\n",
      " - 0s - loss: 0.2333 - acc: 0.9402\n",
      "Epoch 32/50\n",
      " - 0s - loss: 0.2244 - acc: 0.9402\n",
      "Epoch 33/50\n",
      " - 0s - loss: 0.2172 - acc: 0.9391\n",
      "Epoch 34/50\n",
      " - 0s - loss: 0.2090 - acc: 0.9434\n",
      "Epoch 35/50\n",
      " - 0s - loss: 0.2016 - acc: 0.9489\n",
      "Epoch 36/50\n",
      " - 0s - loss: 0.1953 - acc: 0.9445\n",
      "Epoch 37/50\n",
      " - 0s - loss: 0.1888 - acc: 0.9478\n",
      "Epoch 38/50\n",
      " - 0s - loss: 0.1835 - acc: 0.9456\n",
      "Epoch 39/50\n",
      " - 0s - loss: 0.1780 - acc: 0.9499\n",
      "Epoch 40/50\n",
      " - 0s - loss: 0.1719 - acc: 0.9499\n",
      "Epoch 41/50\n",
      " - 0s - loss: 0.1661 - acc: 0.9532\n",
      "Epoch 42/50\n",
      " - 0s - loss: 0.1621 - acc: 0.9510\n",
      "Epoch 43/50\n",
      " - 0s - loss: 0.1584 - acc: 0.9543\n",
      "Epoch 44/50\n",
      " - 0s - loss: 0.1522 - acc: 0.9543\n",
      "Epoch 45/50\n",
      " - 0s - loss: 0.1486 - acc: 0.9532\n",
      "Epoch 46/50\n",
      " - 0s - loss: 0.1445 - acc: 0.9554\n",
      "Epoch 47/50\n",
      " - 0s - loss: 0.1402 - acc: 0.9543\n",
      "Epoch 48/50\n",
      " - 0s - loss: 0.1374 - acc: 0.9554\n",
      "Epoch 49/50\n",
      " - 0s - loss: 0.1330 - acc: 0.9554\n",
      "Epoch 50/50\n",
      " - 0s - loss: 0.1304 - acc: 0.9587\n"
     ]
    },
    {
     "data": {
      "text/plain": [
       "<keras.callbacks.History at 0x7f8a8e382cc0>"
      ]
     },
     "execution_count": 24,
     "metadata": {},
     "output_type": "execute_result"
    }
   ],
   "source": [
    "model.fit(scaled_X_train,y_train,epochs=50,verbose=2)"
   ]
  },
  {
   "cell_type": "code",
   "execution_count": 26,
   "metadata": {},
   "outputs": [],
   "source": [
    "# model.predict_classes(scaled_X_test)"
   ]
  },
  {
   "cell_type": "code",
   "execution_count": 27,
   "metadata": {},
   "outputs": [
    {
     "data": {
      "text/plain": [
       "['loss', 'acc']"
      ]
     },
     "execution_count": 27,
     "metadata": {},
     "output_type": "execute_result"
    }
   ],
   "source": [
    "model.metrics_names"
   ]
  },
  {
   "cell_type": "code",
   "execution_count": 28,
   "metadata": {},
   "outputs": [],
   "source": [
    "from sklearn.metrics import confusion_matrix, classification_report"
   ]
  },
  {
   "cell_type": "code",
   "execution_count": 29,
   "metadata": {},
   "outputs": [],
   "source": [
    "predictions = model.predict_classes(scaled_X_test)"
   ]
  },
  {
   "cell_type": "code",
   "execution_count": 30,
   "metadata": {},
   "outputs": [
    {
     "data": {
      "text/plain": [
       "array([[246,  11],\n",
       "       [ 10, 186]])"
      ]
     },
     "execution_count": 30,
     "metadata": {},
     "output_type": "execute_result"
    }
   ],
   "source": [
    "confusion_matrix(y_test,predictions)"
   ]
  },
  {
   "cell_type": "code",
   "execution_count": 31,
   "metadata": {},
   "outputs": [
    {
     "name": "stdout",
     "output_type": "stream",
     "text": [
      "              precision    recall  f1-score   support\n",
      "\n",
      "         0.0       0.96      0.96      0.96       257\n",
      "         1.0       0.94      0.95      0.95       196\n",
      "\n",
      "   micro avg       0.95      0.95      0.95       453\n",
      "   macro avg       0.95      0.95      0.95       453\n",
      "weighted avg       0.95      0.95      0.95       453\n",
      "\n"
     ]
    }
   ],
   "source": [
    "print(classification_report(y_test,predictions))"
   ]
  },
  {
   "cell_type": "code",
   "execution_count": 32,
   "metadata": {},
   "outputs": [],
   "source": [
    "model.save('my_banknote_classification_model.h5')"
   ]
  },
  {
   "cell_type": "code",
   "execution_count": 33,
   "metadata": {},
   "outputs": [],
   "source": [
    "from keras.models import load_model"
   ]
  },
  {
   "cell_type": "code",
   "execution_count": 34,
   "metadata": {},
   "outputs": [],
   "source": [
    "newmodel = load_model('my_banknote_classification_model.h5')"
   ]
  },
  {
   "cell_type": "code",
   "execution_count": null,
   "metadata": {},
   "outputs": [],
   "source": []
  }
 ],
 "metadata": {
  "kernelspec": {
   "display_name": "Python 3",
   "language": "python",
   "name": "python3"
  },
  "language_info": {
   "codemirror_mode": {
    "name": "ipython",
    "version": 3
   },
   "file_extension": ".py",
   "mimetype": "text/x-python",
   "name": "python",
   "nbconvert_exporter": "python",
   "pygments_lexer": "ipython3",
   "version": "3.6.7"
  }
 },
 "nbformat": 4,
 "nbformat_minor": 2
}
